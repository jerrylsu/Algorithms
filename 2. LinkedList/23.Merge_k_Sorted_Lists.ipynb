{
 "cells": [
  {
   "cell_type": "code",
   "execution_count": 1,
   "metadata": {},
   "outputs": [],
   "source": [
    "# Definition for singly-linked list.\n",
    "# class ListNode:\n",
    "#     def __init__(self, x):\n",
    "#         self.val = x\n",
    "#         self.next = None\n",
    "\n",
    "class Solution:\n",
    "    def mergeKLists(self, lists):\n",
    "        \"\"\"\n",
    "        :type lists: List[ListNode]\n",
    "        :rtype: ListNode\n",
    "        \"\"\"\n",
    "        \n",
    "        '''\n",
    "        from queue import PriorityQueue\n",
    "        cur = dummy = ListNode(-1)\n",
    "        que = PriorityQueue()\n",
    "        for index, node in enumerate(lists):\n",
    "            if node: que.put((node.val, index, node))\n",
    "        while not que.empty():\n",
    "            poped = que.get()\n",
    "            index, cur.next = poped[1], poped[2]\n",
    "            cur = cur.next\n",
    "            if cur.next:\n",
    "                que.put((cur.next.val, index, cur.next))\n",
    "        return dummy.next\n",
    "        '''\n",
    "        if not lists:\n",
    "            return None\n",
    "        \n",
    "        if len(lists) == 1:\n",
    "            return lists[0]\n",
    "        \n",
    "        mid = len(lists) // 2\n",
    "        \n",
    "        l = self.mergeKLists(lists[:mid])\n",
    "        r = self.mergeKLists(lists[mid:])\n",
    "        \n",
    "        return self.merge2Lists(l, r)\n",
    "    \n",
    "    def merge2Lists(self, l, r):\n",
    "        dummpy = cur = ListNode(-1)\n",
    "        while l and r:\n",
    "            if l.val < r.val:\n",
    "                cur.next = l\n",
    "                l = l.next\n",
    "            else:\n",
    "                cur.next = r\n",
    "                r = r.next\n",
    "            cur = cur.next\n",
    "        cur.next = l if l else r\n",
    "        return dummpy.next"
   ]
  },
  {
   "cell_type": "code",
   "execution_count": null,
   "metadata": {},
   "outputs": [],
   "source": []
  }
 ],
 "metadata": {
  "kernelspec": {
   "display_name": "Python 3",
   "language": "python",
   "name": "python3"
  },
  "language_info": {
   "codemirror_mode": {
    "name": "ipython",
    "version": 3
   },
   "file_extension": ".py",
   "mimetype": "text/x-python",
   "name": "python",
   "nbconvert_exporter": "python",
   "pygments_lexer": "ipython3",
   "version": "3.6.6"
  }
 },
 "nbformat": 4,
 "nbformat_minor": 2
}
