{
 "cells": [
  {
   "cell_type": "code",
   "execution_count": null,
   "metadata": {},
   "outputs": [],
   "source": []
  },
  {
   "cell_type": "code",
   "execution_count": 2,
   "metadata": {},
   "outputs": [],
   "source": [
    "from typing import List\n",
    "class Solution:\n",
    "    def partition(self, arr, l, r):\n",
    "        less, more = l - 1, r\n",
    "        pivot = arr[r]\n",
    "        while l < more:\n",
    "            if arr[l] < pivot:\n",
    "                less += 1\n",
    "                arr[less], arr[l] = arr[l], arr[less]\n",
    "                l += 1\n",
    "            elif arr[l] > pivot:\n",
    "                more -= 1\n",
    "                arr[more], arr[l] = arr[l], arr[more]\n",
    "            else:\n",
    "                l += 1\n",
    "        arr[more], pivot = pivot, arr[more]\n",
    "        return less + 1, more\n",
    "    \n",
    "    def majorityElement(self, nums: List[int]) -> int:\n",
    "        length = len(nums) - 1\n",
    "        mid = length // 2\n",
    "        l, r = 0, length\n",
    "        (begin, end) = self.partition(nums, l, r)\n",
    "        while begin != mid:\n",
    "            if begin < mid:\n",
    "                (begin, end) = self.partition(nums, begin + 1, r)\n",
    "            else:\n",
    "                (begin, end) = self.partition(nums, l, begin - 1)\n",
    "        return nums[mid]\n",
    "        "
   ]
  },
  {
   "cell_type": "code",
   "execution_count": 3,
   "metadata": {},
   "outputs": [
    {
     "data": {
      "text/plain": [
       "7"
      ]
     },
     "execution_count": 3,
     "metadata": {},
     "output_type": "execute_result"
    }
   ],
   "source": [
    "s = Solution()\n",
    "arr = [3,5,7,8,7,7,7]\n",
    "s.majorityElement(arr)"
   ]
  },
  {
   "cell_type": "code",
   "execution_count": 11,
   "metadata": {},
   "outputs": [
    {
     "data": {
      "text/plain": [
       "4"
      ]
     },
     "execution_count": 11,
     "metadata": {},
     "output_type": "execute_result"
    }
   ],
   "source": [
    "b"
   ]
  },
  {
   "cell_type": "code",
   "execution_count": null,
   "metadata": {},
   "outputs": [],
   "source": []
  }
 ],
 "metadata": {
  "kernelspec": {
   "display_name": "Python 3",
   "language": "python",
   "name": "python3"
  },
  "language_info": {
   "codemirror_mode": {
    "name": "ipython",
    "version": 3
   },
   "file_extension": ".py",
   "mimetype": "text/x-python",
   "name": "python",
   "nbconvert_exporter": "python",
   "pygments_lexer": "ipython3",
   "version": "3.6.6"
  }
 },
 "nbformat": 4,
 "nbformat_minor": 2
}
