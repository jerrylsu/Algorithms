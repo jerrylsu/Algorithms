{
 "cells": [
  {
   "cell_type": "markdown",
   "metadata": {},
   "source": [
    "## Approach 1: Brute Force"
   ]
  },
  {
   "cell_type": "code",
   "execution_count": 76,
   "metadata": {},
   "outputs": [],
   "source": [
    "def allUnique(substr: str) -> bool:\n",
    "    unique_chars = set()\n",
    "    for char in substr:\n",
    "        if char in unique_chars:\n",
    "            return False\n",
    "        else:\n",
    "            unique_chars.add(char)\n",
    "    return True\n",
    "\n",
    "\n",
    "def lengthOfLongestSubstring(s):\n",
    "    \"\"\"\n",
    "    :type s: str\n",
    "    :rtype: int\n",
    "    \"\"\"\n",
    "    n = len(s)\n",
    "    longest = 0\n",
    "    for i in range(n):\n",
    "        for j in range(i, n):\n",
    "            if allUnique(s[i : j + 1]):\n",
    "                longest = max(longest, len(s[i : j + 1]))\n",
    "    return longest"
   ]
  },
  {
   "cell_type": "code",
   "execution_count": 77,
   "metadata": {},
   "outputs": [
    {
     "data": {
      "text/plain": [
       "2"
      ]
     },
     "execution_count": 77,
     "metadata": {},
     "output_type": "execute_result"
    }
   ],
   "source": [
    "lengthOfLongestSubstring('wd')"
   ]
  },
  {
   "cell_type": "markdown",
   "metadata": {},
   "source": [
    "## Approach 2: Sliding Window"
   ]
  },
  {
   "cell_type": "code",
   "execution_count": 78,
   "metadata": {},
   "outputs": [],
   "source": [
    "def lengthOfLongestSubstring(s):\n",
    "        \"\"\"\n",
    "        :type s: str\n",
    "        :rtype: int\n",
    "        \"\"\"\n",
    "        n = len(s) \n",
    "        longest = 0\n",
    "        unique = set([])\n",
    "        for i in range(n):\n",
    "            j = i\n",
    "            while j < n and s[j] not in unique:\n",
    "                unique.add(s[j])\n",
    "                j += 1\n",
    "            longest = max(longest, j - i+1)\n",
    "            unique.remove(s[i])\n",
    "        return longest"
   ]
  },
  {
   "cell_type": "code",
   "execution_count": 79,
   "metadata": {},
   "outputs": [
    {
     "data": {
      "text/plain": [
       "3"
      ]
     },
     "execution_count": 79,
     "metadata": {},
     "output_type": "execute_result"
    }
   ],
   "source": [
    "lengthOfLongestSubstring('dvdf')"
   ]
  },
  {
   "cell_type": "markdown",
   "metadata": {},
   "source": [
    "## Approach 3: Hash Table with Two Pointers"
   ]
  },
  {
   "cell_type": "code",
   "execution_count": 80,
   "metadata": {},
   "outputs": [],
   "source": [
    "def lengthOfLongestSubstring(s):\n",
    "    dic, res, start, = {}, 0, 0\n",
    "    for i, ch in enumerate(s):\n",
    "        # when char already in dictionary\n",
    "        if ch in dic:\n",
    "            # check length from start of string to index\n",
    "            res = max(res, i-start)\n",
    "            # update start of string index to the next index\n",
    "            start = max(start, dic[ch]+1)\n",
    "        # add/update char to/of dictionary \n",
    "        dic[ch] = i\n",
    "    # answer is either in the begining/middle OR some mid to the end of string\n",
    "    return max(res, len(s)-start)"
   ]
  },
  {
   "cell_type": "code",
   "execution_count": 81,
   "metadata": {},
   "outputs": [
    {
     "data": {
      "text/plain": [
       "3"
      ]
     },
     "execution_count": 81,
     "metadata": {},
     "output_type": "execute_result"
    }
   ],
   "source": [
    "lengthOfLongestSubstring('dvdf')"
   ]
  },
  {
   "cell_type": "code",
   "execution_count": null,
   "metadata": {},
   "outputs": [],
   "source": []
  }
 ],
 "metadata": {
  "kernelspec": {
   "display_name": "Python 3",
   "language": "python",
   "name": "python3"
  },
  "language_info": {
   "codemirror_mode": {
    "name": "ipython",
    "version": 3
   },
   "file_extension": ".py",
   "mimetype": "text/x-python",
   "name": "python",
   "nbconvert_exporter": "python",
   "pygments_lexer": "ipython3",
   "version": "3.6.6"
  }
 },
 "nbformat": 4,
 "nbformat_minor": 2
}
