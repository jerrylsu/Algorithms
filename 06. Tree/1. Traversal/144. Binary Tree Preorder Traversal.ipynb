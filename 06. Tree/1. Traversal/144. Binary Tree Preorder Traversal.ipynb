{
 "cells": [
  {
   "cell_type": "markdown",
   "metadata": {},
   "source": []
  },
  {
   "cell_type": "code",
   "execution_count": null,
   "metadata": {},
   "outputs": [],
   "source": [
    "# recursively\n",
    "def preorderTraversal1(self, root):\n",
    "    res = []\n",
    "    self.dfs(root, res)\n",
    "    return res\n",
    "    \n",
    "def dfs(self, root, res):\n",
    "    if root:\n",
    "        res.append(root.val)\n",
    "        self.dfs(root.left, res)\n",
    "        self.dfs(root.right, res)\n",
    "\n",
    "# iteratively\n",
    "def preorderTraversal(self, root):\n",
    "    stack, res = [root], []\n",
    "    while stack:\n",
    "        node = stack.pop()\n",
    "        if node:\n",
    "            res.append(node.val)\n",
    "            stack.append(node.right)\n",
    "            stack.append(node.left)\n",
    "    return res"
   ]
  }
 ],
 "metadata": {
  "kernelspec": {
   "display_name": "Python 3",
   "language": "python",
   "name": "python3"
  },
  "language_info": {
   "codemirror_mode": {
    "name": "ipython",
    "version": 3
   },
   "file_extension": ".py",
   "mimetype": "text/x-python",
   "name": "python",
   "nbconvert_exporter": "python",
   "pygments_lexer": "ipython3",
   "version": "3.6.6"
  }
 },
 "nbformat": 4,
 "nbformat_minor": 2
}
