{
 "cells": [
  {
   "cell_type": "markdown",
   "metadata": {},
   "source": [
    "### BFS"
   ]
  },
  {
   "cell_type": "code",
   "execution_count": 2,
   "metadata": {},
   "outputs": [],
   "source": [
    "# -*- coding:utf-8 -*-\n",
    "# class TreeNode:\n",
    "#     def __init__(self, x):\n",
    "#         self.val = x\n",
    "#         self.left = None\n",
    "#         self.right = None\n",
    "class Solution:\n",
    "    \n",
    "    def Print(self, pRoot):\n",
    "        # write code here\n",
    "        res = []\n",
    "        from collections import deque\n",
    "        queue = deque()\n",
    "        queue.append(pRoot)\n",
    "        while queue:\n",
    "            level_size = len(queue)\n",
    "            level_cur = []\n",
    "            for _ in range(level_size):\n",
    "                node = queue.popleft()\n",
    "                level_cur.append(node)\n",
    "                if node.left: queue.append(node.left)\n",
    "                if node.right: queue.append(node.right)\n",
    "            res.append(level_cur)\n",
    "        return res"
   ]
  },
  {
   "cell_type": "markdown",
   "metadata": {},
   "source": [
    "### DFS"
   ]
  },
  {
   "cell_type": "code",
   "execution_count": null,
   "metadata": {},
   "outputs": [],
   "source": [
    "class Solution:\n",
    "    # DFS\n",
    "    def Print(self, pRoot):\n",
    "        # write code here\n",
    "        if not pRoot:\n",
    "            return []\n",
    "        res = []\n",
    "        self.dfs(pRoot, 0, res)\n",
    "        return res\n",
    "    \n",
    "    def dfs(self, node, level, res):\n",
    "        if not node:\n",
    "            return\n",
    "        if len(res) < level + 1:\n",
    "            res.append([])\n",
    "        res[level].append(node.val)\n",
    "        self.dfs(node.left, level + 1, res)\n",
    "        self.dfs(node.right, level + 1, res)"
   ]
  }
 ],
 "metadata": {
  "kernelspec": {
   "display_name": "Python 3",
   "language": "python",
   "name": "python3"
  },
  "language_info": {
   "codemirror_mode": {
    "name": "ipython",
    "version": 3
   },
   "file_extension": ".py",
   "mimetype": "text/x-python",
   "name": "python",
   "nbconvert_exporter": "python",
   "pygments_lexer": "ipython3",
   "version": "3.6.6"
  }
 },
 "nbformat": 4,
 "nbformat_minor": 2
}
