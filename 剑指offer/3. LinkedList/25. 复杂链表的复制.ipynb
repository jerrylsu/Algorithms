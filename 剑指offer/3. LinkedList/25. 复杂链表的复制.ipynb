{
 "cells": [
  {
   "cell_type": "markdown",
   "metadata": {},
   "source": [
    "### O(n) Space\n",
    "- HashTable"
   ]
  },
  {
   "cell_type": "code",
   "execution_count": null,
   "metadata": {},
   "outputs": [],
   "source": [
    "class Solution:\n",
    "    # 返回 RandomListNode\n",
    "    def Clone(self, pHead):\n",
    "        if not pHead:\n",
    "            return \n",
    "        cur, dic = pHead, {}\n",
    "        # copy nodes\n",
    "        while cur:\n",
    "            dic[cur] = RandomListNode(cur.label)\n",
    "            cur = cur.next\n",
    "        cur = pHead\n",
    "        # copy random pointers\n",
    "        while cur:\n",
    "            if cur.random:\n",
    "                dic[cur].random = dic[cur.random]\n",
    "            if cur.next:\n",
    "                dic[cur].next = dic[cur.next]\n",
    "            cur = cur.next\n",
    "        return dic[pHead]"
   ]
  },
  {
   "cell_type": "markdown",
   "metadata": {},
   "source": [
    "### O(1) Space\n",
    "- without using dictionary"
   ]
  },
  {
   "cell_type": "code",
   "execution_count": 5,
   "metadata": {},
   "outputs": [],
   "source": [
    "# Definition for singly-linked list with a random pointer.\n",
    "class RandomListNode(object):\n",
    "    def __init__(self, x):\n",
    "        self.label = x\n",
    "        self.next = None\n",
    "        self.random = None\n",
    "\n",
    "class Solution(object):\n",
    "    def copyRandomList(self, head):\n",
    "        \"\"\"\n",
    "        :type head: RandomListNode\n",
    "        :rtype: RandomListNode\n",
    "        \"\"\"\n",
    "        if not head:\n",
    "            return None\n",
    "        # copy node\n",
    "        cur = head\n",
    "        while cur:\n",
    "            node = RandomListNode(cur.label)\n",
    "            node.next = cur.next\n",
    "            cur.next = node\n",
    "            cur = cur.next.next\n",
    "        \n",
    "    p = head    \n",
    "    while p:\n",
    "        if p.random:\n",
    "            p.next.random = p.random.next\n",
    "        p = p.next.next        \n",
    "\n",
    "        # set random point\n",
    "        curOld, curNew = head, head.next\n",
    "        while curNew:\n",
    "            curNew.random = curOld.random.next\n",
    "            curNew = curNew.next.next\n",
    "            curOld = curOld.next.next\n",
    "            \n",
    "        # break down old and new linkedlist\n",
    "        curNew = head.next\n",
    "        while curNew.next:\n",
    "            curNew.next = curNew.next.next\n",
    "            curNew = curNew.next\n",
    "        curNew.next = None\n",
    "        \n",
    "        return head.next\n",
    "            \n",
    "            \n",
    "        "
   ]
  },
  {
   "cell_type": "code",
   "execution_count": 6,
   "metadata": {},
   "outputs": [],
   "source": [
    "node1 = RandomListNode(1)\n",
    "node2 = RandomListNode(2)\n",
    "node3 = RandomListNode(3)\n",
    "node4 = RandomListNode(4)\n",
    "node1.next = node2\n",
    "node2.next = node3\n",
    "node3.next = node4"
   ]
  },
  {
   "cell_type": "code",
   "execution_count": 8,
   "metadata": {},
   "outputs": [
    {
     "name": "stdout",
     "output_type": "stream",
     "text": [
      "1\n",
      "1\n",
      "2\n",
      "2\n",
      "3\n",
      "3\n",
      "4\n",
      "4\n"
     ]
    }
   ],
   "source": [
    "s = Solution()\n",
    "s.copyRandomList(node1)"
   ]
  },
  {
   "cell_type": "code",
   "execution_count": null,
   "metadata": {},
   "outputs": [],
   "source": []
  }
 ],
 "metadata": {
  "kernelspec": {
   "display_name": "Python 3",
   "language": "python",
   "name": "python3"
  },
  "language_info": {
   "codemirror_mode": {
    "name": "ipython",
    "version": 3
   },
   "file_extension": ".py",
   "mimetype": "text/x-python",
   "name": "python",
   "nbconvert_exporter": "python",
   "pygments_lexer": "ipython3",
   "version": "3.6.6"
  }
 },
 "nbformat": 4,
 "nbformat_minor": 2
}
