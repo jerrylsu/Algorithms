{
 "cells": [
  {
   "cell_type": "markdown",
   "metadata": {},
   "source": [
    "可以用一些判断来加速，比如枚举第一个数的时候\n",
    "\n",
    "- nums[i] + nums[i + 1] + nums[i + 2] + nums[i + 3] > target: break\n",
    "\n",
    "    这是当前能凑齐的和最小的4个数，都比target大，后面不需再尝试了，跳出。\n",
    "\n",
    "- nums[i] + nums[n – 3] + nums[n – 2] + nums[n – 1] < target: continue\n",
    "\n",
    "    这是当前凑齐的和最大的4个数，比target小，说明第一个数不够大"
   ]
  },
  {
   "cell_type": "markdown",
   "metadata": {},
   "source": [
    "## 一切的加速和去重都是基于已排序！！！"
   ]
  },
  {
   "cell_type": "code",
   "execution_count": 4,
   "metadata": {},
   "outputs": [],
   "source": [
    "from typing import List\n",
    "class Solution:\n",
    "    def fourSum(self, nums: List[int], target: int) -> List[List[int]]:\n",
    "        n = len(nums)\n",
    "        if n < 4: return []\n",
    "        nums.sort()\n",
    "        res = []\n",
    "        for i in range(n-3):\n",
    "            if nums[i] + nums[i + 1] + nums[i + 2] + nums[i + 3] > target: break     # 加速 (包括当前数在内和最小)\n",
    "            if nums[i] + nums[n - 3] + nums[n - 2] + nums[n - 1] < target: continue  # 加速（包括当前数在内和最大）\n",
    "            if i > 0 and nums[i] == nums[i - 1]: continue\n",
    "            for j in range(i + 1, n - 2):\n",
    "                if nums[i] + nums[j] + nums[j + 1] + nums[j + 2] > target: break     # 加速\n",
    "                if nums[i] + nums[j] + nums[n - 2] + nums[n - 1] < target: continue  # 加速\n",
    "                if j > i + 1 and nums[j] == nums[j - 1]: continue\n",
    "                l, r = j + 1, n - 1\n",
    "                while l < r:\n",
    "                    temp = nums[i] + nums[j] + nums[l] + nums[r]\n",
    "                    if temp == target:\n",
    "                        res.append([nums[i], nums[j], nums[l], nums[r]])\n",
    "                        l += 1\n",
    "                        r -= 1\n",
    "                        while l < r and nums[l] == nums[l - 1]: l += 1\n",
    "                        while l < r and nums[r] == nums[r + 1]: r -= 1\n",
    "                    elif temp > target:\n",
    "                        r -= 1\n",
    "                    else:\n",
    "                        l += 1\n",
    "        return res"
   ]
  },
  {
   "cell_type": "code",
   "execution_count": null,
   "metadata": {},
   "outputs": [],
   "source": []
  },
  {
   "cell_type": "code",
   "execution_count": 5,
   "metadata": {},
   "outputs": [
    {
     "name": "stdout",
     "output_type": "stream",
     "text": [
      "[NbConvertApp] Converting notebook 18.4Sum.ipynb to markdown\n",
      "[NbConvertApp] Writing 1841 bytes to 18.4Sum.md\n"
     ]
    }
   ],
   "source": [
    "!jupyter nbconvert --to markdown 18.4Sum.ipynb"
   ]
  },
  {
   "cell_type": "code",
   "execution_count": null,
   "metadata": {},
   "outputs": [],
   "source": []
  }
 ],
 "metadata": {
  "kernelspec": {
   "display_name": "Python 3",
   "language": "python",
   "name": "python3"
  },
  "language_info": {
   "codemirror_mode": {
    "name": "ipython",
    "version": 3
   },
   "file_extension": ".py",
   "mimetype": "text/x-python",
   "name": "python",
   "nbconvert_exporter": "python",
   "pygments_lexer": "ipython3",
   "version": "3.6.6"
  }
 },
 "nbformat": 4,
 "nbformat_minor": 2
}
