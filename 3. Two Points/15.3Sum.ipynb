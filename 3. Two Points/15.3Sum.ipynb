{
 "cells": [
  {
   "cell_type": "markdown",
   "metadata": {},
   "source": [
    "思路：\n",
    "1. 排序\n",
    "2. 枚举第一个数，然后双指针。\n",
    "\n",
    "复杂度O（n^2) . 注意在过程中顺便去重。比如双指针中，找到满足条件的解，l < r and nums[l] == nums[l - 1]，进行 l++\n",
    "\n",
    "注意，对于`num[i]`，寻找另外两个数时，只要从`i+1`开始找即可。\n",
    "\n",
    "这种写法，可以避免结果集中有重复，因为数组是排好序的，所以当一个数被放到结果集中的时候，其后面和它相等的直接被跳过。"
   ]
  },
  {
   "cell_type": "code",
   "execution_count": 4,
   "metadata": {},
   "outputs": [],
   "source": [
    "class Solution:\n",
    "    def threeSum(self, nums):\n",
    "        \"\"\"\n",
    "        :type nums: List[int]\n",
    "        :rtype: List[List[int]]\n",
    "        \"\"\"\n",
    "        n = len(nums)\n",
    "        if n < 3: return []\n",
    "        nums.sort()\n",
    "        res = []\n",
    "        for i in range(n):\n",
    "            if i > 0 and nums[i] == nums[i - 1]: continue\n",
    "            l, r = i + 1, n - 1\n",
    "            while l < r:\n",
    "                temp = nums[i] + nums[l] + nums[r]\n",
    "                if temp == 0:\n",
    "                    res.append([nums[i], nums[l], nums[r]])\n",
    "                    l += 1\n",
    "                    r -= 1\n",
    "                    while l < r and nums[l] == nums[l - 1]: l += 1 # 去重。 nums[l - 1]已入结果集， nums[l]跳过\n",
    "                    while l < r and nums[r] == nums[r + 1]: r -= 1\n",
    "                elif temp > 0:\n",
    "                    r -= 1\n",
    "                else:\n",
    "                    l += 1\n",
    "        return res"
   ]
  },
  {
   "cell_type": "code",
   "execution_count": null,
   "metadata": {},
   "outputs": [],
   "source": []
  },
  {
   "cell_type": "code",
   "execution_count": 5,
   "metadata": {},
   "outputs": [
    {
     "name": "stdout",
     "output_type": "stream",
     "text": [
      "[NbConvertApp] Converting notebook 15.3Sum.ipynb to markdown\n",
      "[NbConvertApp] Writing 1255 bytes to 15.3Sum.md\n"
     ]
    }
   ],
   "source": [
    "!jupyter nbconvert --to markdown 15.3Sum.ipynb"
   ]
  },
  {
   "cell_type": "code",
   "execution_count": null,
   "metadata": {},
   "outputs": [],
   "source": []
  }
 ],
 "metadata": {
  "kernelspec": {
   "display_name": "Python 3",
   "language": "python",
   "name": "python3"
  },
  "language_info": {
   "codemirror_mode": {
    "name": "ipython",
    "version": 3
   },
   "file_extension": ".py",
   "mimetype": "text/x-python",
   "name": "python",
   "nbconvert_exporter": "python",
   "pygments_lexer": "ipython3",
   "version": "3.6.6"
  }
 },
 "nbformat": 4,
 "nbformat_minor": 2
}
