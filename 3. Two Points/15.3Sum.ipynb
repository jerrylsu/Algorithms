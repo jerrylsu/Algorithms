{
 "cells": [
  {
   "cell_type": "markdown",
   "metadata": {},
   "source": [
    "思路：\n",
    "\n",
    "\n",
    "复杂度O（n^2) . 注意在过程中顺便去重。比如双指针中，找到满足条件的解，l < r and nums[l] == nums[l - 1]，进行 l++\n",
    "\n",
    "注意，对于`num[i]`，寻找另外两个数时，只要从`i+1`开始找即可。\n",
    "\n",
    "这种写法，可以避免结果集中有重复，因为数组是排好序的，所以当一个数被放到结果集中的时候，其后面和它相等的直接被跳过。"
   ]
  },
  {
   "cell_type": "markdown",
   "metadata": {},
   "source": [
    "## 核心思想\n",
    "1. 排序\n",
    "2. 枚举第一个数，然后双指针。\n",
    "\n",
    "迭代`nums`数组中的每一个数`nums[i]`。\n",
    "\n",
    "对于当前数`nums[i]`,寻找另外两个数，使它们和为0。采用**双指针**`l`和`r`。\n",
    "\n",
    "`l`：从左至右\n",
    "\n",
    "`r`：从右至左\n",
    "\n",
    "## 首先，排序数组，可以很容易的移动`i`并且调整`l`和`r`。\n",
    "\n",
    "[1] 如果当前数`nums[i]`和之前数`nums[i - 1]`相同，即已经作为目标数，跳过。\n",
    "\n",
    "[2] 左指针`l`总是从`i + 1`开始， 之前已经尝试。\n",
    "\n",
    "## 现在计算三数和\n",
    "\n",
    "[3] 如果小于0，需增大，左指针右移。\n",
    "\n",
    "[4] 如果大于0，需减小，右指针左移。\n",
    "\n",
    "[5] 如果等于0，找到。\n",
    "\n",
    "[6] 找到，需去重操作。同时移动左右指针指到下一个不同的数。\n",
    "\n",
    "[7] 可省略，程序提速。因为数组是有序的，当`num[i]>0`，`i`以后的数必然全大于0，不必搜索。\n",
    "\n",
    "[8] 无需尝试最后两个数，因为无法设置左右指针。"
   ]
  },
  {
   "cell_type": "code",
   "execution_count": 4,
   "metadata": {},
   "outputs": [],
   "source": [
    "class Solution:\n",
    "    def threeSum(self, nums):\n",
    "        \"\"\"\n",
    "        :type nums: List[int]\n",
    "        :rtype: List[List[int]]\n",
    "        \"\"\"\n",
    "        n = len(nums)\n",
    "        if n < 3: return []\n",
    "        nums.sort()\n",
    "        res = []\n",
    "        for i in range(n-2): #[8]\n",
    "            if nums[i] > 0: break #[7]\n",
    "            if i > 0 and nums[i] == nums[i - 1]: continue #[1]\n",
    "            l, r = i + 1, n - 1 #[2]\n",
    "            while l < r:\n",
    "                temp = nums[i] + nums[l] + nums[r]\n",
    "                if temp == 0:\n",
    "                    res.append([nums[i], nums[l], nums[r]])\n",
    "                    l += 1\n",
    "                    r -= 1\n",
    "                    while l < r and nums[l] == nums[l - 1]: l += 1  #[6]\n",
    "                    while l < r and nums[r] == nums[r + 1]: r -= 1  #[6]\n",
    "                elif temp > 0: #[4]\n",
    "                    r -= 1\n",
    "                else: #[3]\n",
    "                    l += 1\n",
    "        return res"
   ]
  },
  {
   "cell_type": "code",
   "execution_count": null,
   "metadata": {},
   "outputs": [],
   "source": []
  },
  {
   "cell_type": "code",
   "execution_count": 5,
   "metadata": {},
   "outputs": [
    {
     "name": "stdout",
     "output_type": "stream",
     "text": [
      "[NbConvertApp] Converting notebook 15.3Sum.ipynb to markdown\n",
      "[NbConvertApp] Writing 1255 bytes to 15.3Sum.md\n"
     ]
    }
   ],
   "source": [
    "!jupyter nbconvert --to markdown 15.3Sum.ipynb"
   ]
  }
 ],
 "metadata": {
  "kernelspec": {
   "display_name": "Python 3",
   "language": "python",
   "name": "python3"
  },
  "language_info": {
   "codemirror_mode": {
    "name": "ipython",
    "version": 3
   },
   "file_extension": ".py",
   "mimetype": "text/x-python",
   "name": "python",
   "nbconvert_exporter": "python",
   "pygments_lexer": "ipython3",
   "version": "3.6.6"
  }
 },
 "nbformat": 4,
 "nbformat_minor": 2
}
