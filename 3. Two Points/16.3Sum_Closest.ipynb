{
 "cells": [
  {
   "cell_type": "code",
   "execution_count": 2,
   "metadata": {},
   "outputs": [],
   "source": [
    "from typing import List\n",
    "class Solution:\n",
    "    def threeSumClosest(self, nums: List[int], target: int) -> int:\n",
    "        n = len(nums)\n",
    "        if n < 3: return None\n",
    "        nums.sort()\n",
    "        res = sum(nums[:3])\n",
    "        for i in range(n - 2):\n",
    "            l, r = i + 1, n - 1\n",
    "            while l < r:\n",
    "                total = nums[i] + nums[l] + nums[r]\n",
    "                if total == target:\n",
    "                    return total\n",
    "                elif total < target:\n",
    "                    l += 1\n",
    "                else:\n",
    "                    r -= 1\n",
    "\n",
    "                if abs(total - target) < abs(res - target):\n",
    "                    res = total\n",
    "        return res"
   ]
  },
  {
   "cell_type": "code",
   "execution_count": null,
   "metadata": {},
   "outputs": [],
   "source": []
  },
  {
   "cell_type": "code",
   "execution_count": null,
   "metadata": {},
   "outputs": [],
   "source": [
    "!jupyter nbconvert --to markdown 16.3Sum_Closest.ipynb"
   ]
  }
 ],
 "metadata": {
  "kernelspec": {
   "display_name": "Python 3",
   "language": "python",
   "name": "python3"
  },
  "language_info": {
   "codemirror_mode": {
    "name": "ipython",
    "version": 3
   },
   "file_extension": ".py",
   "mimetype": "text/x-python",
   "name": "python",
   "nbconvert_exporter": "python",
   "pygments_lexer": "ipython3",
   "version": "3.6.6"
  }
 },
 "nbformat": 4,
 "nbformat_minor": 2
}
