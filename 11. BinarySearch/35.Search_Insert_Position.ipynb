{
 "cells": [
  {
   "cell_type": "code",
   "execution_count": null,
   "metadata": {},
   "outputs": [],
   "source": [
    "from typing import List\n",
    "class Solution:\n",
    "    def searchInsert(self, nums: List[int], target: int) -> int:\n",
    "        if not nums: return -1\n",
    "        l, r = 0, len(nums) - 1\n",
    "        while l + 1 < r:\n",
    "            mid = l + ((r - l) >> 1)\n",
    "            if nums[mid] == target: return mid\n",
    "            if nums[mid] < target:\n",
    "                l = mid\n",
    "            else:\n",
    "                r = mid\n",
    "        if nums[l] >= target: return l\n",
    "        if nums[r] >= target: return r\n",
    "        return r + 1"
   ]
  },
  {
   "cell_type": "code",
   "execution_count": null,
   "metadata": {},
   "outputs": [],
   "source": [
    "!jupyter nbconvert --to markdown 35.Search_Insert_Position.ipynb"
   ]
  },
  {
   "cell_type": "code",
   "execution_count": null,
   "metadata": {},
   "outputs": [],
   "source": []
  }
 ],
 "metadata": {
  "kernelspec": {
   "display_name": "Python 3",
   "language": "python",
   "name": "python3"
  },
  "language_info": {
   "codemirror_mode": {
    "name": "ipython",
    "version": 3
   },
   "file_extension": ".py",
   "mimetype": "text/x-python",
   "name": "python",
   "nbconvert_exporter": "python",
   "pygments_lexer": "ipython3",
   "version": "3.6.6"
  }
 },
 "nbformat": 4,
 "nbformat_minor": 2
}
