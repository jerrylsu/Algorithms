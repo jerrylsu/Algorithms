{
 "cells": [
  {
   "cell_type": "code",
   "execution_count": 2,
   "metadata": {},
   "outputs": [],
   "source": [
    "from typing import List\n",
    "class Solution:\n",
    "    def searchRange(self, nums: List[int], target: int) -> List[int]:\n",
    "        if not nums: return [-1, -1]\n",
    "        lower, upper = -1, -1\n",
    "        \n",
    "        # lower\n",
    "        left, right = 0, len(nums) - 1\n",
    "        while left + 1 < right:\n",
    "            mid = left + ((right - left) >> 1)\n",
    "            if target == nums[mid]:\n",
    "                right = mid\n",
    "            elif target < nums[mid]:\n",
    "                right = mid\n",
    "            else:\n",
    "                left = mid\n",
    "        if target == nums[right]: lower = right\n",
    "        if target == nums[left]: lower = left\n",
    "            \n",
    "        # upper\n",
    "        left, right = 0, len(nums) - 1\n",
    "        while left + 1 < right:\n",
    "            mid = left + ((right - left) >> 1)\n",
    "            if target == nums[mid]:\n",
    "                left = mid\n",
    "            elif target < nums[mid]:\n",
    "                right = mid\n",
    "            else:\n",
    "                left = mid\n",
    "        if target == nums[left]: upper = left\n",
    "        if target == nums[right]: upper = right\n",
    "            \n",
    "        return [lower, upper]"
   ]
  },
  {
   "cell_type": "code",
   "execution_count": 3,
   "metadata": {},
   "outputs": [],
   "source": [
    "s = Solution()"
   ]
  },
  {
   "cell_type": "code",
   "execution_count": 4,
   "metadata": {},
   "outputs": [
    {
     "data": {
      "text/plain": [
       "[1, 0]"
      ]
     },
     "execution_count": 4,
     "metadata": {},
     "output_type": "execute_result"
    }
   ],
   "source": [
    "s.searchRange([2, 2], 2)"
   ]
  },
  {
   "cell_type": "code",
   "execution_count": null,
   "metadata": {},
   "outputs": [],
   "source": []
  }
 ],
 "metadata": {
  "kernelspec": {
   "display_name": "Python 3",
   "language": "python",
   "name": "python3"
  },
  "language_info": {
   "codemirror_mode": {
    "name": "ipython",
    "version": 3
   },
   "file_extension": ".py",
   "mimetype": "text/x-python",
   "name": "python",
   "nbconvert_exporter": "python",
   "pygments_lexer": "ipython3",
   "version": "3.6.6"
  }
 },
 "nbformat": 4,
 "nbformat_minor": 2
}
