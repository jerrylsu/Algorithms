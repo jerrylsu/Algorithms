{
 "cells": [
  {
   "cell_type": "code",
   "execution_count": null,
   "metadata": {},
   "outputs": [],
   "source": [
    "# Definition for a binary tree node.\n",
    "# class TreeNode:\n",
    "#     def __init__(self, x):\n",
    "#         self.val = x\n",
    "#         self.left = None\n",
    "#         self.right = None\n",
    "\n",
    "class Solution:\n",
    "    def isBalanced(self, root: TreeNode) -> bool:\n",
    "        balance, _ = self.helper(root)\n",
    "        return balance\n",
    "    \n",
    "    def helper(self, root):\n",
    "        # end condition\n",
    "        if not root:\n",
    "            return True, 0\n",
    "        \n",
    "        # divide conquer\n",
    "        leftBalance, leftDepth = self.helper(root.left)\n",
    "        rightBalance, rightDepth = self.helper(root.right)       \n",
    "        \n",
    "        # combine & return result\n",
    "        if not leftBalance: return False, 0\n",
    "        if not rightBalance: return False, 0\n",
    "        return abs(leftDepth - rightDepth) <= 1, max(leftDepth, rightDepth) + 1\n",
    "        \n",
    "        \n",
    "        "
   ]
  }
 ],
 "metadata": {
  "kernelspec": {
   "display_name": "Python 3",
   "language": "python",
   "name": "python3"
  },
  "language_info": {
   "codemirror_mode": {
    "name": "ipython",
    "version": 3
   },
   "file_extension": ".py",
   "mimetype": "text/x-python",
   "name": "python",
   "nbconvert_exporter": "python",
   "pygments_lexer": "ipython3",
   "version": "3.6.6"
  }
 },
 "nbformat": 4,
 "nbformat_minor": 2
}
