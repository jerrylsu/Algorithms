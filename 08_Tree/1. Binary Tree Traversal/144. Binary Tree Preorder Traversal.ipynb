{
 "cells": [
  {
   "cell_type": "markdown",
   "metadata": {},
   "source": []
  },
  {
   "cell_type": "code",
   "execution_count": null,
   "metadata": {},
   "outputs": [],
   "source": [
    "# recursion\n",
    "def preorderTraversal(self, root):\n",
    "    res = []\n",
    "    self.traversal(root, res)\n",
    "    return res\n",
    "    \n",
    "def traversal(self, root, res):\n",
    "    if not root:\n",
    "        return\n",
    "    res.append(root.val)\n",
    "    self.traversal(root.left, res)\n",
    "    self.traversal(root.right, res)\n",
    "\n",
    "# non-recursion\n",
    "def preorderTraversal(self, root):\n",
    "    if not root:\n",
    "        return []\n",
    "    stack, res = [root], []\n",
    "    while stack:\n",
    "        node = stack.pop()\n",
    "        if node:\n",
    "            res.append(node.val)\n",
    "            stack.append(node.right)\n",
    "            stack.append(node.left)\n",
    "    return res\n",
    "\n",
    "# divide conquer\n",
    "def preorderTraversal(self, root):\n",
    "    # end condition\n",
    "    if not root:\n",
    "        return []\n",
    "    # divide & conquer\n",
    "    left = self.preorderTraversal(root.left)\n",
    "    right = self.preorderTraversal(root.right)\n",
    "    # combine\n",
    "    res = []\n",
    "    res.append(root.val)\n",
    "    res.extend(left)\n",
    "    res.extend(right)\n",
    "    # return result\n",
    "    return res\n",
    "    "
   ]
  },
  {
   "cell_type": "code",
   "execution_count": null,
   "metadata": {},
   "outputs": [],
   "source": []
  }
 ],
 "metadata": {
  "kernelspec": {
   "display_name": "Python 3",
   "language": "python",
   "name": "python3"
  },
  "language_info": {
   "codemirror_mode": {
    "name": "ipython",
    "version": 3
   },
   "file_extension": ".py",
   "mimetype": "text/x-python",
   "name": "python",
   "nbconvert_exporter": "python",
   "pygments_lexer": "ipython3",
   "version": "3.6.6"
  }
 },
 "nbformat": 4,
 "nbformat_minor": 2
}
