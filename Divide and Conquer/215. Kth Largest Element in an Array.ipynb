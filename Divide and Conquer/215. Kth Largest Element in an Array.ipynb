{
 "cells": [
  {
   "cell_type": "markdown",
   "metadata": {},
   "source": [
    "借助分治快排的思想，只不过每次只选择一边的子序列进行划分。\n",
    "\n",
    "每次选定基准`nums[r]`之后，比基准值大的都在左边子序列，小的在右边子序列，\n",
    "\n",
    "所以只要将k与当前基准所在下标进行比较（基准下标index即为第index大的数），确认下次对哪半边子序列进行操作。"
   ]
  },
  {
   "cell_type": "code",
   "execution_count": 1,
   "metadata": {},
   "outputs": [],
   "source": [
    "class Solution(object):\n",
    "    def findKthLargest(self, nums, k):\n",
    "        \"\"\"\n",
    "        :type nums: List[int]\n",
    "        :type k: int\n",
    "        :rtype: int\n",
    "        \"\"\"\n",
    "        return self.partition(nums, k - 1, 0, len(nums) - 1)\n",
    "    \n",
    "    def partition(self, nums, k , l, r):\n",
    "        pivot = nums[r]\n",
    "        more = cur = l\n",
    "        while cur < r:\n",
    "            if nums[cur] > pivot:\n",
    "                nums[more], nums[cur] = nums[cur], nums[more]\n",
    "                more += 1\n",
    "            cur += 1\n",
    "        nums[more], nums[r] = nums[r], nums[more]\n",
    "        print(nums)\n",
    "        pivot_position = more\n",
    "        if pivot_position == k:\n",
    "            return nums[k]\n",
    "        #if pivot_position > k:\n",
    "        #    return self.partition(nums, k, l, pivot_position - 1)\n",
    "        #else:\n",
    "        #    return self.partition(nums, k - pivot_position, pivot_position + 1, r)"
   ]
  },
  {
   "cell_type": "code",
   "execution_count": 2,
   "metadata": {},
   "outputs": [
    {
     "name": "stdout",
     "output_type": "stream",
     "text": [
      "[2, 0, -1]\n"
     ]
    }
   ],
   "source": [
    "s = Solution()\n",
    "nums = [-1, 2, 0]\n",
    "s.findKthLargest(nums, 3)"
   ]
  },
  {
   "cell_type": "code",
   "execution_count": null,
   "metadata": {},
   "outputs": [],
   "source": []
  }
 ],
 "metadata": {
  "kernelspec": {
   "display_name": "Python 3",
   "language": "python",
   "name": "python3"
  },
  "language_info": {
   "codemirror_mode": {
    "name": "ipython",
    "version": 3
   },
   "file_extension": ".py",
   "mimetype": "text/x-python",
   "name": "python",
   "nbconvert_exporter": "python",
   "pygments_lexer": "ipython3",
   "version": "3.6.6"
  }
 },
 "nbformat": 4,
 "nbformat_minor": 2
}
