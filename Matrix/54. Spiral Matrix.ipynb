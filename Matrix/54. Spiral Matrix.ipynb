{
 "cells": [
  {
   "cell_type": "code",
   "execution_count": 32,
   "metadata": {},
   "outputs": [],
   "source": [
    "from typing import List\n",
    "class Solution:\n",
    "    def spiralOrder(self, matrix: List[List[int]]) -> List[int]:\n",
    "        if not matrix: return matrix\n",
    "        res = []\n",
    "        tR, tC = 0, 0\n",
    "        dR = len(matrix) - 1\n",
    "        dC = len(matrix[0]) - 1\n",
    "        while tR <= dR and tC <= dC:\n",
    "            if tR == dR:\n",
    "                for i in range(tC, dC + 1):        # one row\n",
    "                    res.append(matrix[tR][i])\n",
    "            elif tC == dC:\n",
    "                for i in range(tR, dR + 1):        # one column\n",
    "                    res.append(matrix[i][tC])\n",
    "            else:\n",
    "                for i in range(tC, dC):            # left to right\n",
    "                    res.append(matrix[tR][i])\n",
    "                for i in range(tR, dR):            # up to down\n",
    "                    res.append(matrix[i][dC])\n",
    "                for i in range(dC, tC, -1):        # right to left\n",
    "                    res.append(matrix[dR][i])\n",
    "                for i in range(dR, tR, -1):        # down to up\n",
    "                    res.append(matrix[i][tC])\n",
    "            tR += 1\n",
    "            tC += 1\n",
    "            dR -= 1\n",
    "            dC -= 1\n",
    "        return res"
   ]
  },
  {
   "cell_type": "code",
   "execution_count": 33,
   "metadata": {},
   "outputs": [],
   "source": [
    "s = Solution()"
   ]
  },
  {
   "cell_type": "code",
   "execution_count": 38,
   "metadata": {},
   "outputs": [],
   "source": [
    "matrix1 = [[1], [3], [1]]\n",
    "matrix2 = [[2, 5, 6]]\n",
    "matrix3 = [[1, 2, 3], [4, 5, 6], [7, 8, 9]]"
   ]
  },
  {
   "cell_type": "code",
   "execution_count": 35,
   "metadata": {},
   "outputs": [
    {
     "data": {
      "text/plain": [
       "[1, 3, 1]"
      ]
     },
     "execution_count": 35,
     "metadata": {},
     "output_type": "execute_result"
    }
   ],
   "source": [
    "s.spiralOrder(matrix1)"
   ]
  },
  {
   "cell_type": "code",
   "execution_count": 36,
   "metadata": {},
   "outputs": [
    {
     "data": {
      "text/plain": [
       "[2, 5, 6]"
      ]
     },
     "execution_count": 36,
     "metadata": {},
     "output_type": "execute_result"
    }
   ],
   "source": [
    "s.spiralOrder(matrix2)"
   ]
  },
  {
   "cell_type": "code",
   "execution_count": 37,
   "metadata": {},
   "outputs": [
    {
     "data": {
      "text/plain": [
       "[1, 2, 3, 6, 9, 8, 7, 4, 5]"
      ]
     },
     "execution_count": 37,
     "metadata": {},
     "output_type": "execute_result"
    }
   ],
   "source": [
    "s.spiralOrder(matrix3)"
   ]
  },
  {
   "cell_type": "code",
   "execution_count": null,
   "metadata": {},
   "outputs": [],
   "source": [
    "123\n",
    "456\n",
    "789"
   ]
  },
  {
   "cell_type": "code",
   "execution_count": null,
   "metadata": {},
   "outputs": [],
   "source": []
  }
 ],
 "metadata": {
  "kernelspec": {
   "display_name": "Python 3",
   "language": "python",
   "name": "python3"
  },
  "language_info": {
   "codemirror_mode": {
    "name": "ipython",
    "version": 3
   },
   "file_extension": ".py",
   "mimetype": "text/x-python",
   "name": "python",
   "nbconvert_exporter": "python",
   "pygments_lexer": "ipython3",
   "version": "3.6.6"
  }
 },
 "nbformat": 4,
 "nbformat_minor": 2
}
