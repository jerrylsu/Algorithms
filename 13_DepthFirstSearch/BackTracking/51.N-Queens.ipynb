{
 "cells": [
  {
   "cell_type": "code",
   "execution_count": 11,
   "metadata": {},
   "outputs": [],
   "source": [
    "from typing import List"
   ]
  },
  {
   "cell_type": "code",
   "execution_count": 21,
   "metadata": {},
   "outputs": [],
   "source": [
    "class Solution:\n",
    "    def solveNQueens(self, n: int) -> List[List[str]]:\n",
    "        if n < 1: return []\n",
    "        self.res = []\n",
    "        self.cols = set()\n",
    "        self.pie = set()\n",
    "        self.na = set()\n",
    "        self.DFS(n, 0, [])\n",
    "        return [['.'* i + 'Q' + '.'*(n - i -1) for i in row] for row in self.res]\n",
    "    \n",
    "    def DFS(self, n, row, cur_stat):\n",
    "        if row == n:\n",
    "            self.res.append(cur_stat)\n",
    "            return\n",
    "        for col in range(n):\n",
    "            if col in self.cols or row + col in self.pie or row - col in self.na:\n",
    "                continue\n",
    "            self.cols.add(col)\n",
    "            self.pie.add(row + col)\n",
    "            self.na.add(row - col)\n",
    "            self.DFS(n, row + 1, cur_stat + [col])\n",
    "            self.cols.remove(col)\n",
    "            self.pie.remove(row + col)\n",
    "            self.na.remove(row - col)"
   ]
  },
  {
   "cell_type": "code",
   "execution_count": 22,
   "metadata": {},
   "outputs": [],
   "source": [
    "c = Solution()"
   ]
  },
  {
   "cell_type": "code",
   "execution_count": 23,
   "metadata": {},
   "outputs": [
    {
     "data": {
      "text/plain": [
       "[['.Q..', '...Q', 'Q...', '..Q.'], ['..Q.', 'Q...', '...Q', '.Q..']]"
      ]
     },
     "execution_count": 23,
     "metadata": {},
     "output_type": "execute_result"
    }
   ],
   "source": [
    "c.solveNQueens(4)"
   ]
  },
  {
   "cell_type": "code",
   "execution_count": 25,
   "metadata": {},
   "outputs": [
    {
     "name": "stdout",
     "output_type": "stream",
     "text": [
      "[NbConvertApp] Converting notebook 51.N-Queens.ipynb to markdown\n",
      "[NbConvertApp] Writing 1025 bytes to 51.N-Queens.md\n"
     ]
    }
   ],
   "source": [
    "!jupyter nbconvert --to markdown 51.N-Queens.ipynb"
   ]
  },
  {
   "cell_type": "code",
   "execution_count": null,
   "metadata": {},
   "outputs": [],
   "source": []
  }
 ],
 "metadata": {
  "kernelspec": {
   "display_name": "Python 3",
   "language": "python",
   "name": "python3"
  },
  "language_info": {
   "codemirror_mode": {
    "name": "ipython",
    "version": 3
   },
   "file_extension": ".py",
   "mimetype": "text/x-python",
   "name": "python",
   "nbconvert_exporter": "python",
   "pygments_lexer": "ipython3",
   "version": "3.6.6"
  }
 },
 "nbformat": 4,
 "nbformat_minor": 2
}
