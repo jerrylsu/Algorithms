{
 "cells": [
  {
   "cell_type": "code",
   "execution_count": 5,
   "metadata": {},
   "outputs": [],
   "source": [
    "class Solution:\n",
    "    def twoSum(self, nums, target):\n",
    "        \"\"\"\n",
    "        :type nums: List[int]\n",
    "        :type target: int\n",
    "        :rtype: List[int]\n",
    "        \"\"\"\n",
    "        \n",
    "        \"\"\"\n",
    "        dic = {}\n",
    "        for index, num in enumerate(nums):\n",
    "            dic[num] = index\n",
    "        for index, num in enumerate(nums):\n",
    "            #if dic.get(target-num) and dic[target-num] != index:\n",
    "            if target-num in dic.keys() and dic[target-num] != index:\n",
    "                return [index, dic[target-num]]\n",
    "        \"\"\"\n",
    "        \n",
    "        # target - num不在dic中，便将num加入dic。当遍历到target - num时， target - (target - num) = num便一定在dic中！！\n",
    "        dic = {}\n",
    "        for index, num in enumerate(nums):\n",
    "            if target - num in dic:\n",
    "                return [index, dic[target - num]]\n",
    "            dic[num] = index\n",
    "        return"
   ]
  },
  {
   "cell_type": "code",
   "execution_count": null,
   "metadata": {},
   "outputs": [],
   "source": []
  },
  {
   "cell_type": "code",
   "execution_count": 6,
   "metadata": {},
   "outputs": [
    {
     "name": "stdout",
     "output_type": "stream",
     "text": [
      "[NbConvertApp] Converting notebook 1.Two_Sum.ipynb to markdown\n",
      "[NbConvertApp] Writing 1008 bytes to 1.Two_Sum.md\n"
     ]
    }
   ],
   "source": [
    "!jupyter nbconvert --to markdown 1.Two_Sum.ipynb"
   ]
  },
  {
   "cell_type": "code",
   "execution_count": null,
   "metadata": {},
   "outputs": [],
   "source": []
  }
 ],
 "metadata": {
  "kernelspec": {
   "display_name": "Python 3",
   "language": "python",
   "name": "python3"
  },
  "language_info": {
   "codemirror_mode": {
    "name": "ipython",
    "version": 3
   },
   "file_extension": ".py",
   "mimetype": "text/x-python",
   "name": "python",
   "nbconvert_exporter": "python",
   "pygments_lexer": "ipython3",
   "version": "3.6.6"
  }
 },
 "nbformat": 4,
 "nbformat_minor": 2
}
