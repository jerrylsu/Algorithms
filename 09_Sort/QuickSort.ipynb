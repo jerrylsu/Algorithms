{
 "cells": [
  {
   "cell_type": "code",
   "execution_count": 34,
   "metadata": {},
   "outputs": [],
   "source": [
    "def partition(arr, l, r):\n",
    "    pivot = arr[r]\n",
    "    less, more = l-1, r\n",
    "    while l < more:\n",
    "        if arr[l] < pivot:\n",
    "            less += 1\n",
    "            arr[less], arr[l] = arr[l], arr[less]\n",
    "            l += 1\n",
    "        elif arr[l] > pivot:\n",
    "            more -= 1\n",
    "            arr[more], arr[l] = arr[l], arr[more]\n",
    "        else:\n",
    "            l += 1\n",
    "    arr[more], pivot = pivot, arr[more]\n",
    "    return arr#, less+1, more             # return equal interval"
   ]
  },
  {
   "cell_type": "code",
   "execution_count": 35,
   "metadata": {},
   "outputs": [
    {
     "data": {
      "text/plain": [
       "[1, 6, 5, 4, 3, 2, 8, 1]"
      ]
     },
     "execution_count": 35,
     "metadata": {},
     "output_type": "execute_result"
    }
   ],
   "source": [
    "arr = [8,7,6,5,4,3,2,1]\n",
    "partition(arr, 0, len(arr)-1)"
   ]
  },
  {
   "cell_type": "code",
   "execution_count": null,
   "metadata": {},
   "outputs": [],
   "source": []
  }
 ],
 "metadata": {
  "kernelspec": {
   "display_name": "Python 3",
   "language": "python",
   "name": "python3"
  },
  "language_info": {
   "codemirror_mode": {
    "name": "ipython",
    "version": 3
   },
   "file_extension": ".py",
   "mimetype": "text/x-python",
   "name": "python",
   "nbconvert_exporter": "python",
   "pygments_lexer": "ipython3",
   "version": "3.8.3"
  }
 },
 "nbformat": 4,
 "nbformat_minor": 2
}
