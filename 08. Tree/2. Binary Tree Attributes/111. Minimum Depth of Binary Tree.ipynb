{
 "cells": [
  {
   "cell_type": "code",
   "execution_count": null,
   "metadata": {},
   "outputs": [],
   "source": [
    "# Definition for a binary tree node.\n",
    "# class TreeNode(object):\n",
    "#     def __init__(self, x):\n",
    "#         self.val = x\n",
    "#         self.left = None\n",
    "#         self.right = None\n",
    "\n",
    "class Solution:\n",
    "    def minDepth(self, root: TreeNode) -> int:\n",
    "        # end condition\n",
    "        if not root:\n",
    "            return 0\n",
    "        \n",
    "        if None in [root.left, root.right]:\n",
    "            \n",
    "            # divide conquer\n",
    "            leftDepth = self.minDepth(root.left)\n",
    "            rightDepth = self.minDepth(root.right)\n",
    "            \n",
    "            # combine\n",
    "            res = max(leftDepth, rightDepth) + 1\n",
    "            \n",
    "            # return result\n",
    "            return res\n",
    "        \n",
    "        else:\n",
    "            \n",
    "            # divide conquer\n",
    "            leftDepth = self.minDepth(root.left)\n",
    "            rightDepth = self.minDepth(root.right)\n",
    "            \n",
    "            # combine\n",
    "            res = min(leftDepth, rightDepth) + 1\n",
    "            \n",
    "            # return result\n",
    "            return res"
   ]
  }
 ],
 "metadata": {
  "kernelspec": {
   "display_name": "Python 3",
   "language": "python",
   "name": "python3"
  },
  "language_info": {
   "codemirror_mode": {
    "name": "ipython",
    "version": 3
   },
   "file_extension": ".py",
   "mimetype": "text/x-python",
   "name": "python",
   "nbconvert_exporter": "python",
   "pygments_lexer": "ipython3",
   "version": "3.6.6"
  }
 },
 "nbformat": 4,
 "nbformat_minor": 2
}
