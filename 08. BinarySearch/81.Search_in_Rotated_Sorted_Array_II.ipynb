{
 "cells": [
  {
   "cell_type": "code",
   "execution_count": null,
   "metadata": {},
   "outputs": [],
   "source": [
    "class Solution:\n",
    "    def search(self, nums: List[int], target: int) -> bool:\n",
    "        if not nums: return False\n",
    "        l, r = 0, len(nums) - 1\n",
    "        while l <= r:\n",
    "            mid = l + (r - l ) // 2\n",
    "            if nums[mid] == target: return True\n",
    "            \n",
    "            if nums[mid] < nums[r]:                # 确定有序的子数组, [mid, r]有序\n",
    "                if nums[mid] < target <= nums[r]:  # 确定target是否在[mid, r]有序子数组\n",
    "                    l = mid + 1\n",
    "                else:                              # 否则，target在无序子数组\n",
    "                    r = mid - 1\n",
    "            elif nums[mid] > nums[r]:              # 确定有序的子数组, [l, mid]有序\n",
    "                if nums[l] <= target < nums[mid]:  # 确定target是否在[l, mid]有序子数组\n",
    "                    r = mid - 1\n",
    "                else:\n",
    "                    l = mid + 1\n",
    "            else:\n",
    "                r -= 1\n",
    "        return False"
   ]
  },
  {
   "cell_type": "code",
   "execution_count": 1,
   "metadata": {},
   "outputs": [
    {
     "name": "stdout",
     "output_type": "stream",
     "text": [
      "[NbConvertApp] Converting notebook 81.Search_Insert_Position_II.ipynb to markdown\n",
      "[NbConvertApp] Writing 862 bytes to 81.Search_Insert_Position_II.md\n"
     ]
    }
   ],
   "source": [
    "!jupyter nbconvert --to markdown 81.Search_Insert_Position_II.ipynb"
   ]
  },
  {
   "cell_type": "markdown",
   "metadata": {},
   "source": []
  },
  {
   "cell_type": "code",
   "execution_count": null,
   "metadata": {},
   "outputs": [],
   "source": []
  }
 ],
 "metadata": {
  "kernelspec": {
   "display_name": "Python 3",
   "language": "python",
   "name": "python3"
  },
  "language_info": {
   "codemirror_mode": {
    "name": "ipython",
    "version": 3
   },
   "file_extension": ".py",
   "mimetype": "text/x-python",
   "name": "python",
   "nbconvert_exporter": "python",
   "pygments_lexer": "ipython3",
   "version": "3.6.6"
  }
 },
 "nbformat": 4,
 "nbformat_minor": 2
}
