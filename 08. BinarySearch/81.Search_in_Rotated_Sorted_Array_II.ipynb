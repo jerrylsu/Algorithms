{
 "cells": [
  {
   "cell_type": "code",
   "execution_count": null,
   "metadata": {},
   "outputs": [],
   "source": [
    "class Solution:\n",
    "    def search(self, nums: List[int], target: int) -> int:\n",
    "        if not nums: return False\n",
    "        left, right = 0, len(nums) - 1\n",
    "        while left + 1 < right:\n",
    "            mid = left + ((right - left) >> 1)\n",
    "            if target == nums[mid]: return True\n",
    "            \n",
    "            if nums[mid] > nums[left]:                 # 确定有序的子数组, [left, mid]有序\n",
    "                if nums[left] <= target < nums[mid]:   # 确定target是否在[left, mid]有序子数组\n",
    "                    right = mid\n",
    "                else:\n",
    "                    left = mid\n",
    "            elif nums[mid] < nums[left]:               # 确定有序的子数组, [mid, right]有序\n",
    "                if nums[mid] < target <= nums[right]:  # 确定target是否在[mid, right]有序子数组\n",
    "                    left = mid\n",
    "                else:                                  # 否则，target在无序子数组\n",
    "                    right = mid\n",
    "            else:                                      # nums[mid] == nums[left]                   \n",
    "                left += 1\n",
    "        if target == nums[left]: return True\n",
    "        if target == nums[right]: return True\n",
    "        return False"
   ]
  }
 ],
 "metadata": {
  "kernelspec": {
   "display_name": "Python 3",
   "language": "python",
   "name": "python3"
  },
  "language_info": {
   "codemirror_mode": {
    "name": "ipython",
    "version": 3
   },
   "file_extension": ".py",
   "mimetype": "text/x-python",
   "name": "python",
   "nbconvert_exporter": "python",
   "pygments_lexer": "ipython3",
   "version": "3.6.6"
  }
 },
 "nbformat": 4,
 "nbformat_minor": 2
}
