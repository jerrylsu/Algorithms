{
 "cells": [
  {
   "cell_type": "markdown",
   "metadata": {},
   "source": [
    "边界l<=r"
   ]
  },
  {
   "cell_type": "code",
   "execution_count": 4,
   "metadata": {},
   "outputs": [],
   "source": [
    "from typing import List\n",
    "class Solution:\n",
    "    def searchInsert(self, nums: List[int], target: int) -> int:\n",
    "        l, r = 0, len(nums) - 1\n",
    "        while l <= r:\n",
    "            mid = l + (r - 1) // 2\n",
    "            if target > nums[mid]:\n",
    "                l = mid + 1\n",
    "            elif target < nums[mid]:\n",
    "                r = mid - 1\n",
    "            else:\n",
    "                return mid\n",
    "        return l"
   ]
  },
  {
   "cell_type": "code",
   "execution_count": 5,
   "metadata": {},
   "outputs": [
    {
     "name": "stdout",
     "output_type": "stream",
     "text": [
      "[NbConvertApp] Converting notebook 33.Search_in_Rotated_Sorted_Array.ipynb to markdown\n",
      "[NbConvertApp] Writing 1983 bytes to 33.Search_in_Rotated_Sorted_Array.md\n"
     ]
    }
   ],
   "source": [
    "!jupyter nbconvert --to markdown 33.Search_in_Rotated_Sorted_Array.ipynb"
   ]
  },
  {
   "cell_type": "code",
   "execution_count": null,
   "metadata": {},
   "outputs": [],
   "source": []
  }
 ],
 "metadata": {
  "kernelspec": {
   "display_name": "Python 3",
   "language": "python",
   "name": "python3"
  },
  "language_info": {
   "codemirror_mode": {
    "name": "ipython",
    "version": 3
   },
   "file_extension": ".py",
   "mimetype": "text/x-python",
   "name": "python",
   "nbconvert_exporter": "python",
   "pygments_lexer": "ipython3",
   "version": "3.6.6"
  }
 },
 "nbformat": 4,
 "nbformat_minor": 2
}
