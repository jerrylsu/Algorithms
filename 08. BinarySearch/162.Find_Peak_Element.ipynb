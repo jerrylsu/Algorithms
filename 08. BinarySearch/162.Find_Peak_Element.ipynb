{
 "cells": [
  {
   "cell_type": "markdown",
   "metadata": {},
   "source": [
    "Conditions:\n",
    "     1. array length is 1  -> return the only index \n",
    "     2. array length is 2  -> return the bigger number's index \n",
    "     3. array length is bigger than 2 -> \n",
    "           (1) find mid, compare it with its left and right neighbors  \n",
    "           (2) return mid if nums[mid] greater than both neighbors\n",
    "           (3) take the right half array if nums[mid] smaller than right neighbor\n",
    "           (4) otherwise, take the left half"
   ]
  },
  {
   "cell_type": "code",
   "execution_count": null,
   "metadata": {},
   "outputs": [],
   "source": [
    "class Solution:\n",
    "    def findPeakElement(self, nums: List[int]) -> int:\n",
    "        if not nums: return -1\n",
    "        left, right = 0, len(nums) - 1\n",
    "        while left + 1 < right:\n",
    "            mid = left + ((right - left) >> 1)\n",
    "            if nums[mid] > nums[mid - 1] and nums[mid] > nums[mid + 1]:\n",
    "                return mid\n",
    "            if nums[mid] < nums[mid - 1]:\n",
    "                right = mid\n",
    "            elif nums[mid] < nums[mid + 1]:\n",
    "                left = mid\n",
    "        return left if nums[left] > nums[right] else right \n",
    "        "
   ]
  }
 ],
 "metadata": {
  "kernelspec": {
   "display_name": "Python 3",
   "language": "python",
   "name": "python3"
  },
  "language_info": {
   "codemirror_mode": {
    "name": "ipython",
    "version": 3
   },
   "file_extension": ".py",
   "mimetype": "text/x-python",
   "name": "python",
   "nbconvert_exporter": "python",
   "pygments_lexer": "ipython3",
   "version": "3.6.6"
  }
 },
 "nbformat": 4,
 "nbformat_minor": 2
}
