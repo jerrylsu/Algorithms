{
 "cells": [
  {
   "cell_type": "code",
   "execution_count": null,
   "metadata": {},
   "outputs": [],
   "source": [
    "class Solution:\n",
    "    def findMin(self, nums: List[int]) -> int:\n",
    "        if not nums:\n",
    "            return -1\n",
    "        left, right = 0, len(nums) - 1\n",
    "        while left + 1 < right:\n",
    "            mid = left + ((right - left) >> 1)\n",
    "            if nums[mid] < nums[right]:         # 不可与nums[left]比较， [1, 2, 3, 4, 5]\n",
    "                right = mid\n",
    "            elif nums[mid] > nums[right]:\n",
    "                left = mid\n",
    "            else:\n",
    "                right -= 1\n",
    "        return min(nums[left], nums[right])        "
   ]
  }
 ],
 "metadata": {
  "kernelspec": {
   "display_name": "Python 3",
   "language": "python",
   "name": "python3"
  },
  "language_info": {
   "name": ""
  }
 },
 "nbformat": 4,
 "nbformat_minor": 2
}
