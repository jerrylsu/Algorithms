{
 "cells": [
  {
   "cell_type": "markdown",
   "metadata": {},
   "source": [
    "http://blog.gainlo.co/index.php/2017/01/12/rotated-array-binary-search/\n",
    "\n",
    "### 1. 为什么选择这个题目？\n",
    "- 测试对时间复杂度和搜索算法的理解是一个很好的问题。\n",
    "- 很难编写bug free的代码，因此很多人都无法完成代码，尽管他们可以很容易地提出正确的想法。\n",
    "\n",
    "### 2. 在已排序和已旋转的数组中查找指定元素\n",
    "- 提问数组中是否有重复元素\n",
    "- 法1：遍历数组O(n)\n",
    "\n",
    "为何想到要优化？因为不仅没有使用数组旋转和有序的条件，知道像二分搜索这样的算法可以具有O(logN)复杂度。\n",
    "### 3. 二分查找\n",
    "两个提示可以引导进行二分查找\n",
    "- 对数组有序\n",
    "- 更快的算法O(logN)\n",
    "\n",
    "二分查找的本质是通过消除一半候选者来减少时间复杂度。不是关于有序数组或递归。\n",
    "\n",
    "法2： \n",
    "\n",
    "因为数组只rotate了一次，如果二分一下，总有一半是有序的，而且和另一半无区间重叠，我们只需要检查有序的一半的首尾两个元素就可以确定target可能在哪一半。pivot在右子数组，则左子数组必然有序。反之同理。\n",
    "\n",
    "具体来说，假设数组是A，每次左边缘为l，右边缘为r，还有中间位置是m。在每次迭代中，分三种情况：\n",
    "- 如果target==A[m]，那么m就是我们要的结果，直接返回；\n",
    "- 如果A[m]<A[r]，那么说明从m到r一定是有序的（没有受到rotate的影响），那么我们只需要判断target是不是在m到r之间，如果是则把左边缘移到m+1，否则就target在另一半，即把右边缘移到m-1。\n",
    "- 如果A[m]>=A[r]，那么说明从l到m一定是有序的，同样只需要判断target是否在这个范围内，相应的移动边缘即可。\n",
    "\n",
    "根据以上方法，每次我们都可以切掉一半的数据，所以算法的时间复杂度是O(logn)，空间复杂度是O(1)。\n",
    "\n",
    "### 4. 测试用例\n",
    "- 空数组\n",
    "- 两个元素数组\n",
    "- target存在\n",
    "- mid元素就是pivot\n",
    "\n",
    "### 5. 如果数组包含重复元素？\n",
    "Search in Rotated Sorted Array II\n"
   ]
  },
  {
   "cell_type": "code",
   "execution_count": null,
   "metadata": {},
   "outputs": [],
   "source": [
    "# 10, 12, 13, 3, 4, 6, 8, 9\n",
    "\n",
    "class Solution:\n",
    "    def search(self, nums: List[int], target: int) -> int:\n",
    "        if not nums: return -1\n",
    "        l, r = 0, len(nums) - 1\n",
    "        while l <= r:\n",
    "            mid = l + (r - l ) // 2\n",
    "            if nums[mid] == target: return mid\n",
    "            \n",
    "            if nums[mid] <= nums[r]:               # 确定有序的子数组, [mid, r]有序\n",
    "                if nums[mid] < target <= nums[r]:  # 确定target是否在[mid, r]有序子数组\n",
    "                    l = mid + 1\n",
    "                else:                              # 否则，target在无序子数组\n",
    "                    r = mid - 1\n",
    "            else:                                  # 确定有序的子数组, [l, mid]有序\n",
    "                if nums[l] <= target < nums[mid]:  # 确定target是否在[l, mid]有序子数组\n",
    "                    r = mid - 1\n",
    "                else:\n",
    "                    l = mid + 1\n",
    "        return -1"
   ]
  },
  {
   "cell_type": "code",
   "execution_count": 1,
   "metadata": {},
   "outputs": [
    {
     "name": "stdout",
     "output_type": "stream",
     "text": [
      "[NbConvertApp] Converting notebook 35.Search_Insert_Position.ipynb to markdown\n",
      "[NbConvertApp] Writing 404 bytes to 35.Search_Insert_Position.md\n"
     ]
    }
   ],
   "source": [
    "!jupyter nbconvert --to markdown 35.Search_Insert_Position.ipynb"
   ]
  },
  {
   "cell_type": "code",
   "execution_count": null,
   "metadata": {},
   "outputs": [],
   "source": []
  }
 ],
 "metadata": {
  "kernelspec": {
   "display_name": "Python 3",
   "language": "python",
   "name": "python3"
  },
  "language_info": {
   "codemirror_mode": {
    "name": "ipython",
    "version": 3
   },
   "file_extension": ".py",
   "mimetype": "text/x-python",
   "name": "python",
   "nbconvert_exporter": "python",
   "pygments_lexer": "ipython3",
   "version": "3.6.6"
  }
 },
 "nbformat": 4,
 "nbformat_minor": 2
}
