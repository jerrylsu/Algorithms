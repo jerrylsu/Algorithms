{
 "cells": [
  {
   "cell_type": "markdown",
   "metadata": {},
   "source": [
    "### Recursion"
   ]
  },
  {
   "cell_type": "code",
   "execution_count": 7,
   "metadata": {},
   "outputs": [],
   "source": [
    "class Solution:\n",
    "    def minPathSum(self, grid):\n",
    "        \"\"\"\n",
    "        :type grid: List[List[int]]\n",
    "        :rtype: int\n",
    "        \"\"\"\n",
    "        if not grid:\n",
    "            return \n",
    "        return self.helper(grid, 0, 0)\n",
    "    \n",
    "    def helper(self, grid, i, j):\n",
    "        if i == len(grid) - 1 and j == len(grid[0]) - 1:\n",
    "            return grid[i][j]\n",
    "        if i == len(grid) - 1:\n",
    "            return grid[i][j] + self.helper(grid, i, j + 1)\n",
    "        elif j == len(grid[0]) - 1:\n",
    "            return grid[i][j] + self.helper(grid, i + 1, j)\n",
    "        else:\n",
    "            return grid[i][j] + min(self.helper(grid, i + 1, j), self.helper(grid, i , j + 1))"
   ]
  },
  {
   "cell_type": "code",
   "execution_count": 8,
   "metadata": {},
   "outputs": [
    {
     "data": {
      "text/plain": [
       "16"
      ]
     },
     "execution_count": 8,
     "metadata": {},
     "output_type": "execute_result"
    }
   ],
   "source": [
    "s = Solution()\n",
    "grid = [\n",
    "  [1,3,1,3],\n",
    "  [1,5,1,5],\n",
    "  [4,2,1,9]\n",
    "]\n",
    "s.minPathSum(grid)"
   ]
  },
  {
   "cell_type": "markdown",
   "metadata": {},
   "source": [
    "### DP"
   ]
  },
  {
   "cell_type": "code",
   "execution_count": 17,
   "metadata": {},
   "outputs": [],
   "source": [
    "class Solution:\n",
    "    def minPathSum(self, grid):\n",
    "        \"\"\"\n",
    "        :type grid: List[List[int]]\n",
    "        :rtype: int\n",
    "        \"\"\"\n",
    "        if not grid:\n",
    "            return\n",
    "        row = len(grid)\n",
    "        col = len(grid[0])\n",
    "        dp = [[0 for i in range(col)] for j in range(row)]\n",
    "        dp[0][0] = grid[0][0]\n",
    "        \n",
    "        # the first row\n",
    "        for i in range(1, col):\n",
    "            dp[0][i] = grid[0][i] + dp[0][i-1]\n",
    "            \n",
    "        # the first column\n",
    "        for i in range(1, row):\n",
    "            dp[i][0] = grid[i][0] + dp[i-1][0]\n",
    "        \n",
    "        # other location\n",
    "        for i in range(1, row):\n",
    "            for j in range(1, col):\n",
    "                dp[i][j] = grid[i][j] + min(dp[i][j-1], dp[i-1][j])\n",
    "        print(dp)\n",
    "        return dp[-1][-1]\n",
    "         "
   ]
  },
  {
   "cell_type": "code",
   "execution_count": 18,
   "metadata": {},
   "outputs": [
    {
     "name": "stdout",
     "output_type": "stream",
     "text": [
      "[[1, 4, 5, 8], [2, 7, 6, 11], [6, 8, 7, 16]]\n"
     ]
    },
    {
     "data": {
      "text/plain": [
       "16"
      ]
     },
     "execution_count": 18,
     "metadata": {},
     "output_type": "execute_result"
    }
   ],
   "source": [
    "s = Solution()\n",
    "s.minPathSum(grid)"
   ]
  },
  {
   "cell_type": "code",
   "execution_count": null,
   "metadata": {},
   "outputs": [],
   "source": []
  }
 ],
 "metadata": {
  "kernelspec": {
   "display_name": "Python 3",
   "language": "python",
   "name": "python3"
  },
  "language_info": {
   "codemirror_mode": {
    "name": "ipython",
    "version": 3
   },
   "file_extension": ".py",
   "mimetype": "text/x-python",
   "name": "python",
   "nbconvert_exporter": "python",
   "pygments_lexer": "ipython3",
   "version": "3.6.6"
  }
 },
 "nbformat": 4,
 "nbformat_minor": 2
}
