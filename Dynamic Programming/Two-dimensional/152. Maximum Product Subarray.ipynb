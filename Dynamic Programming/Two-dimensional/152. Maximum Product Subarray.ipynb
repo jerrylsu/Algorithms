{
 "cells": [
  {
   "cell_type": "markdown",
   "metadata": {},
   "source": [
    "## dp状态：\n",
    "### dp[i][2]: dp[i][0] => max; dp[i][1] => min\n",
    "\n",
    "## dp方程\n",
    "### dp[i][0] = dp[i - 1][0] * arr[i] if arr[i] >= 0 else dp[i - 1][1] * arr[i]\n",
    "### dp[i][1] = dp[i - 1][1] * arr[i] if arr[i] >= 0 else dp[i - 1][0] * arr[i]"
   ]
  },
  {
   "cell_type": "code",
   "execution_count": 22,
   "metadata": {},
   "outputs": [],
   "source": [
    "from typing import List\n",
    "class Solution:\n",
    "    def maxProduct(self, nums: List[int]) -> int:\n",
    "        dp = [[0 for _ in range(2)] for _ in range(2)]\n",
    "        dp[0][0], dp[0][1], res = nums[0], nums[0], nums[0]\n",
    "        for i in range(1, len(nums)):\n",
    "            x, y = i % 2, (i - 1) % 2    # 滚动数组\n",
    "            dp[x][0] = max(dp[y][0] * nums[i], dp[y][1] * nums[i], nums[i])\n",
    "            dp[x][1] = min(dp[y][0] * nums[i], dp[y][1] * nums[i], nums[i])\n",
    "            res = max(res, dp[x][0])\n",
    "        return res"
   ]
  },
  {
   "cell_type": "code",
   "execution_count": 23,
   "metadata": {},
   "outputs": [],
   "source": [
    "s = Solution()"
   ]
  },
  {
   "cell_type": "code",
   "execution_count": 24,
   "metadata": {},
   "outputs": [
    {
     "data": {
      "text/plain": [
       "6"
      ]
     },
     "execution_count": 24,
     "metadata": {},
     "output_type": "execute_result"
    }
   ],
   "source": [
    "s.maxProduct([2, 3, -1])"
   ]
  },
  {
   "cell_type": "code",
   "execution_count": null,
   "metadata": {},
   "outputs": [],
   "source": []
  }
 ],
 "metadata": {
  "kernelspec": {
   "display_name": "Python 3",
   "language": "python",
   "name": "python3"
  },
  "language_info": {
   "codemirror_mode": {
    "name": "ipython",
    "version": 3
   },
   "file_extension": ".py",
   "mimetype": "text/x-python",
   "name": "python",
   "nbconvert_exporter": "python",
   "pygments_lexer": "ipython3",
   "version": "3.6.6"
  }
 },
 "nbformat": 4,
 "nbformat_minor": 2
}
