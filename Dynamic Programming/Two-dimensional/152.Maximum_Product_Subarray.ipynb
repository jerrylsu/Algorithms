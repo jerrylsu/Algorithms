{
 "cells": [
  {
   "cell_type": "markdown",
   "metadata": {},
   "source": [
    "### dp状态：\n",
    "```\n",
    "dp[i][2]\n",
    "dp[i][0] => max\n",
    "dp[i][1] => min\n",
    "```\n",
    "\n",
    "### dp初始状态：\n",
    "```\n",
    "dp[0][0], dp[0][1] = nums[0], nums[0]\n",
    "```\n",
    "\n",
    "### dp状态转移方程：\n",
    "取决于当前值`nums[i]`的正负情况。\n",
    "若为正`nums[i] >= 0`：\n",
    "- 则当前状态的最大值为上个状态的最大值乘以当前值`dp[i][0] = max(dp[i - 1][0] * nums[i], nums[i])`\n",
    "- 则当前状态的最小值为上个状态的最小值乘以当前值`dp[i][0] = max(dp[i - 1][1] * nums[i], nums[i])`\n",
    "若为负`nums[i] < 0`：\n",
    "- 则当前状态的最大值为上个状态的最小值乘以当前值`dp[i][0] = max(dp[i - 1][1] * nums[i], nums[i])`\n",
    "- 则当前状态的最小值为上个状态的最大值乘以当前值`dp[i][0] = max(dp[i - 1][0] * nums[i], nums[i])`\n",
    "\n",
    "```\n",
    "dp[i][0] = max(dp[i - 1][0] * nums[i], dp[i - 1][1] * nums[i], nums[i])\n",
    "dp[i][1] = min(dp[i - 1][0] * nums[i], dp[i - 1][1] * nums[i], nums[i])\n",
    "```"
   ]
  },
  {
   "cell_type": "code",
   "execution_count": 43,
   "metadata": {},
   "outputs": [],
   "source": [
    "from typing import List\n",
    "class Solution:\n",
    "    def maxProduct(self, nums: List[int]) -> int:\n",
    "        if not nums: return\n",
    "        dp = [[0 for _ in range(2)] for _ in range(2)]\n",
    "        dp[0][0], dp[0][1], res = nums[0], nums[0], nums[0]\n",
    "        for i in range(1, len(nums)):\n",
    "            x, y = i % 2, (i - 1) % 2    # 滚动数组\n",
    "            dp[x][0] = max(dp[y][0] * nums[i], dp[y][1] * nums[i], nums[i])\n",
    "            dp[x][1] = min(dp[y][0] * nums[i], dp[y][1] * nums[i], nums[i])\n",
    "            res = max(res, dp[x][0])\n",
    "        return res"
   ]
  },
  {
   "cell_type": "code",
   "execution_count": 44,
   "metadata": {},
   "outputs": [],
   "source": [
    "s = Solution()"
   ]
  },
  {
   "cell_type": "code",
   "execution_count": 45,
   "metadata": {},
   "outputs": [
    {
     "data": {
      "text/plain": [
       "6"
      ]
     },
     "execution_count": 45,
     "metadata": {},
     "output_type": "execute_result"
    }
   ],
   "source": [
    "s.maxProduct([2, 3, -1])"
   ]
  },
  {
   "cell_type": "code",
   "execution_count": 46,
   "metadata": {},
   "outputs": [
    {
     "name": "stdout",
     "output_type": "stream",
     "text": [
      "[NbConvertApp] Converting notebook 152.Maximum_Product_Subarray.ipynb to markdown\n",
      "[NbConvertApp] Writing 1101 bytes to 152.Maximum_Product_Subarray.md\n"
     ]
    }
   ],
   "source": [
    "!jupyter nbconvert --to markdown 152.Maximum_Product_Subarray.ipynb"
   ]
  },
  {
   "cell_type": "code",
   "execution_count": 49,
   "metadata": {},
   "outputs": [],
   "source": [
    "class Solutio(object):\n",
    "    def maxProduct(self, nums):\n",
    "        \"\"\"\n",
    "        :type nums: List[int]\n",
    "        :rtype: int\n",
    "        \"\"\"\n",
    "        maxdp = [nums[0]] * len(nums)\n",
    "        mindp = [nums[0]] * len(nums)\n",
    "\n",
    "        for i in range(1, len(nums)):\n",
    "            maxdp[i] = max(mindp[i-1]*nums[i], maxdp[i-1]*nums[i], nums[i])\n",
    "            mindp[i] = min(maxdp[i-1]*nums[i], mindp[i-1]*nums[i], nums[i])\n",
    "        print(maxdp)\n",
    "        return max(maxdp)"
   ]
  },
  {
   "cell_type": "code",
   "execution_count": 54,
   "metadata": {},
   "outputs": [
    {
     "name": "stdout",
     "output_type": "stream",
     "text": [
      "[3, 12, -3, 5]\n"
     ]
    },
    {
     "data": {
      "text/plain": [
       "12"
      ]
     },
     "execution_count": 54,
     "metadata": {},
     "output_type": "execute_result"
    }
   ],
   "source": [
    "d = Solutio()\n",
    "num = [3,4,-3,5]\n",
    "d.maxProduct(num)"
   ]
  },
  {
   "cell_type": "code",
   "execution_count": null,
   "metadata": {},
   "outputs": [],
   "source": []
  }
 ],
 "metadata": {
  "kernelspec": {
   "display_name": "Python 3",
   "language": "python",
   "name": "python3"
  },
  "language_info": {
   "codemirror_mode": {
    "name": "ipython",
    "version": 3
   },
   "file_extension": ".py",
   "mimetype": "text/x-python",
   "name": "python",
   "nbconvert_exporter": "python",
   "pygments_lexer": "ipython3",
   "version": "3.6.6"
  }
 },
 "nbformat": 4,
 "nbformat_minor": 2
}
