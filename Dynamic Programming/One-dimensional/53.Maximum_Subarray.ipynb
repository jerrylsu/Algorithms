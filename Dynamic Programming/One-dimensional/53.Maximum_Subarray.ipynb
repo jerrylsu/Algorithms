{
 "cells": [
  {
   "cell_type": "markdown",
   "metadata": {},
   "source": [
    "### dp状态：\n",
    "```\n",
    "dp[i] => max\n",
    "```\n",
    "\n",
    "### dp初始状态：\n",
    "```\n",
    "dp[0] = nums[0]\n",
    "```\n",
    "\n",
    "### dp状态转移方程：\n",
    "```\n",
    "dp[i] = max(dp[i - 1] + nums[i], nums[i])\n",
    "```"
   ]
  },
  {
   "cell_type": "code",
   "execution_count": 37,
   "metadata": {},
   "outputs": [],
   "source": [
    "class Solution:\n",
    "    def maxSubArray(self, nums):\n",
    "        \"\"\"\n",
    "        :type nums: List[int]\n",
    "        :rtype: int\n",
    "        \"\"\"\n",
    "        if not nums: return\n",
    "        dp, dp[0], res = [0, 0], nums[0], nums[0]\n",
    "        for i in range(1, len(nums)):\n",
    "            x, y = i % 2, (i - 1) % 2\n",
    "            dp[x] = max(dp[y] + nums[i], nums[i])\n",
    "            res = max(dp[x], res)\n",
    "        return res"
   ]
  },
  {
   "cell_type": "code",
   "execution_count": 32,
   "metadata": {},
   "outputs": [],
   "source": [
    "s = Solution()\n",
    "nums = [1,-2]"
   ]
  },
  {
   "cell_type": "code",
   "execution_count": 34,
   "metadata": {},
   "outputs": [
    {
     "data": {
      "text/plain": [
       "1"
      ]
     },
     "execution_count": 34,
     "metadata": {},
     "output_type": "execute_result"
    }
   ],
   "source": [
    "s.maxSubArray(nums)"
   ]
  },
  {
   "cell_type": "code",
   "execution_count": 36,
   "metadata": {},
   "outputs": [
    {
     "name": "stdout",
     "output_type": "stream",
     "text": [
      "[NbConvertApp] Converting notebook 53.Maximum_Subarray.ipynb to markdown\n",
      "[NbConvertApp] Writing 648 bytes to 53.Maximum_Subarray.md\n"
     ]
    }
   ],
   "source": [
    "!jupyter nbconvert --to markdown 53.Maximum_Subarray.ipynb"
   ]
  },
  {
   "cell_type": "code",
   "execution_count": null,
   "metadata": {},
   "outputs": [],
   "source": []
  }
 ],
 "metadata": {
  "kernelspec": {
   "display_name": "Python 3",
   "language": "python",
   "name": "python3"
  },
  "language_info": {
   "codemirror_mode": {
    "name": "ipython",
    "version": 3
   },
   "file_extension": ".py",
   "mimetype": "text/x-python",
   "name": "python",
   "nbconvert_exporter": "python",
   "pygments_lexer": "ipython3",
   "version": "3.6.6"
  }
 },
 "nbformat": 4,
 "nbformat_minor": 2
}
