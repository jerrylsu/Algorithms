{
 "cells": [
  {
   "cell_type": "markdown",
   "metadata": {},
   "source": [
    "https://leetcode.com/problems/lowest-common-ancestor-of-a-binary-tree/discuss/152682/Python-simple-recursive-solution-with-detailed-explanation\n",
    "\n",
    "https://leetcode.com/problems/lowest-common-ancestor-of-a-binary-tree/discuss/65225/4-lines-C%2B%2BJavaPythonRuby"
   ]
  },
  {
   "cell_type": "code",
   "execution_count": 2,
   "metadata": {},
   "outputs": [],
   "source": [
    "# Definition for a binary tree node.\n",
    "# class TreeNode(object):\n",
    "#     def __init__(self, x):\n",
    "#         self.val = x\n",
    "#         self.left = None\n",
    "#         self.right = None\n",
    "\n",
    "class Solution(object):\n",
    "    def lowestCommonAncestor(self, root, p, q):\n",
    "        \"\"\"\n",
    "        :type root: TreeNode\n",
    "        :type p: TreeNode\n",
    "        :type q: TreeNode\n",
    "        :rtype: TreeNode\n",
    "        \"\"\"\n",
    "        \n",
    "        '''\n",
    "        if root in (None, p, q):\n",
    "            return root\n",
    "        left = self.lowestCommonAncestor(root.left, p, q)\n",
    "        right = self.lowestCommonAncestor(root.right, p, q)\n",
    "        return root if left and right else left or right\n",
    "        '''\n",
    "        \n",
    "        if not root or root == p or root == q:\n",
    "            return root\n",
    "        # else look in left and right child\n",
    "        \n",
    "        left = self.lowestCommonAncestor(root.left, p, q)\n",
    "        \n",
    "        right = self.lowestCommonAncestor(root.right, p, q)\n",
    "\n",
    "        # if both children returned a node, means\n",
    "        # both p and q found so parent is LCA\n",
    "        if left and right:\n",
    "            return root\n",
    "        else:\n",
    "        # either one of the chidren returned a node, meaning either p or q found on left or right branch.\n",
    "        # Example: assuming 'p' found in left child, right child returned 'None'. This means 'q' is\n",
    "        # somewhere below node where 'p' was found we dont need to search all the way, \n",
    "        # because in such scenarios, node where 'p' found is LCA\n",
    "            return left or right"
   ]
  },
  {
   "cell_type": "code",
   "execution_count": null,
   "metadata": {},
   "outputs": [],
   "source": []
  }
 ],
 "metadata": {
  "kernelspec": {
   "display_name": "Python 3",
   "language": "python",
   "name": "python3"
  },
  "language_info": {
   "codemirror_mode": {
    "name": "ipython",
    "version": 3
   },
   "file_extension": ".py",
   "mimetype": "text/x-python",
   "name": "python",
   "nbconvert_exporter": "python",
   "pygments_lexer": "ipython3",
   "version": "3.6.6"
  }
 },
 "nbformat": 4,
 "nbformat_minor": 2
}
