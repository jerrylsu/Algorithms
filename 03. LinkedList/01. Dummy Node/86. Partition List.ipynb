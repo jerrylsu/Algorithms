{
 "cells": [
  {
   "cell_type": "code",
   "execution_count": 17,
   "metadata": {},
   "outputs": [],
   "source": [
    "class ListNode:\n",
    "    def __init__(self, x):\n",
    "        self.val = x\n",
    "        self.next = None\n",
    "\n",
    "class Solution:\n",
    "    def partition(self, head: ListNode, x: int) -> ListNode:\n",
    "        if not head or not head.next:\n",
    "            return head\n",
    "        dummy1 = less = ListNode(-1)\n",
    "        dummy2 = more = ListNode(-1)\n",
    "        while head:\n",
    "            if head.val < x:\n",
    "                less.next = head\n",
    "                less = head\n",
    "            else:\n",
    "                more.next = head\n",
    "                more = head\n",
    "            head = head.next\n",
    "        more.next = None\n",
    "        less.next = dummy2.next\n",
    "        return dummy1.next"
   ]
  },
  {
   "cell_type": "code",
   "execution_count": 18,
   "metadata": {},
   "outputs": [],
   "source": [
    "# 1-4-3-2-5-2-null  3\n",
    "h1 = ListNode(1)\n",
    "h2 = ListNode(4)\n",
    "h3 = ListNode(3)\n",
    "h4 = ListNode(2)\n",
    "h5 = ListNode(5)\n",
    "h6 = ListNode(2)\n",
    "h1.next = h2\n",
    "h2.next = h3\n",
    "h3.next = h4\n",
    "h4.next = h5\n",
    "h5.next = h6"
   ]
  },
  {
   "cell_type": "code",
   "execution_count": 19,
   "metadata": {},
   "outputs": [],
   "source": [
    "s = Solution()"
   ]
  },
  {
   "cell_type": "code",
   "execution_count": 20,
   "metadata": {},
   "outputs": [],
   "source": [
    "res = s.partition(h1, 3)"
   ]
  },
  {
   "cell_type": "code",
   "execution_count": 21,
   "metadata": {},
   "outputs": [
    {
     "name": "stdout",
     "output_type": "stream",
     "text": [
      "1\n",
      "2\n",
      "2\n",
      "4\n",
      "3\n",
      "5\n"
     ]
    }
   ],
   "source": [
    "cur = res\n",
    "while cur:\n",
    "    print(cur.val)\n",
    "    cur = cur.next"
   ]
  },
  {
   "cell_type": "code",
   "execution_count": null,
   "metadata": {},
   "outputs": [],
   "source": []
  }
 ],
 "metadata": {
  "kernelspec": {
   "display_name": "Python 3",
   "language": "python",
   "name": "python3"
  },
  "language_info": {
   "codemirror_mode": {
    "name": "ipython",
    "version": 3
   },
   "file_extension": ".py",
   "mimetype": "text/x-python",
   "name": "python",
   "nbconvert_exporter": "python",
   "pygments_lexer": "ipython3",
   "version": "3.6.6"
  }
 },
 "nbformat": 4,
 "nbformat_minor": 2
}
